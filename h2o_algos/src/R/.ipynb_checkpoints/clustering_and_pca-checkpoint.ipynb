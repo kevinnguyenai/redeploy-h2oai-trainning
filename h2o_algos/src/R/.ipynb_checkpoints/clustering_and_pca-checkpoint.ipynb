{
 "cells": [
  {
   "cell_type": "code",
   "execution_count": 7,
   "metadata": {
    "collapsed": false
   },
   "outputs": [
    {
     "name": "stdout",
     "output_type": "stream",
     "text": [
      "\n",
      "H2O is not running yet, starting it now...\n",
      "\n",
      "Note:  In case of errors look at the following log files:\n",
      "    /var/folders/tc/0ss1l73113j3wdyjsxmy1j2r0000gn/T//RtmpQxsHG8/h2o_phall_started_from_r.out\n",
      "    /var/folders/tc/0ss1l73113j3wdyjsxmy1j2r0000gn/T//RtmpQxsHG8/h2o_phall_started_from_r.err\n",
      "\n",
      "\n",
      "Starting H2O JVM and connecting: .. Connection successful!\n",
      "\n",
      "R is connected to the H2O cluster: \n",
      "    H2O cluster uptime:         1 seconds 925 milliseconds \n",
      "    H2O cluster version:        3.12.0.1 \n",
      "    H2O cluster version age:    29 days  \n",
      "    H2O cluster name:           H2O_started_from_R_phall_pmp059 \n",
      "    H2O cluster total nodes:    1 \n",
      "    H2O cluster total memory:   3.56 GB \n",
      "    H2O cluster total cores:    8 \n",
      "    H2O cluster allowed cores:  8 \n",
      "    H2O cluster healthy:        TRUE \n",
      "    H2O Connection ip:          localhost \n",
      "    H2O Connection port:        54321 \n",
      "    H2O Connection proxy:       NA \n",
      "    H2O Internal Security:      FALSE \n",
      "    R Version:                  R version 3.3.2 (2016-10-31) \n",
      "\n"
     ]
    }
   ],
   "source": [
    "# import libs and allow h2o to use max. threads\n",
    "library(ggplot2)\n",
    "library(h2o)\n",
    "h2o.init(nthreads = -1)"
   ]
  },
  {
   "cell_type": "code",
   "execution_count": 8,
   "metadata": {
    "collapsed": true
   },
   "outputs": [],
   "source": [
    "# location of clean data file\n",
    "path <- \"https://raw.githubusercontent.com/h2oai/app-consumer-loan/master/data/loan.csv\""
   ]
  },
  {
   "cell_type": "code",
   "execution_count": 9,
   "metadata": {
    "collapsed": false
   },
   "outputs": [
    {
     "name": "stdout",
     "output_type": "stream",
     "text": [
      "\r",
      "  |                                                                            \r",
      "  |                                                                      |   0%\r",
      "  |                                                                            \r",
      "  |===                                                                   |   4%\r",
      "  |                                                                            \r",
      "  |======================================================================| 100%\n"
     ]
    }
   ],
   "source": [
    "# import file\n",
    "frame <- h2o.importFile(path)\n",
    "\n",
    "# strings automatically parsed as enums (categorical)\n",
    "# numbers automatically parsed as numeric\n",
    "# bad_loan is numeric, but categorical\n",
    "frame$bad_loan <- as.factor(frame$bad_loan)"
   ]
  },
  {
   "cell_type": "code",
   "execution_count": 10,
   "metadata": {
    "collapsed": false
   },
   "outputs": [],
   "source": [
    "# find missing numeric and impute\n",
    "for (name in names(frame)) {\n",
    "  if (any(is.na(frame[name]))) {\n",
    "      h2o.impute(frame, name, \"median\")\n",
    "  }\n",
    "}"
   ]
  },
  {
   "cell_type": "code",
   "execution_count": 11,
   "metadata": {
    "collapsed": false
   },
   "outputs": [
    {
     "data": {
      "text/html": [
       "<table>\n",
       "<thead><tr><th scope=col>Label</th><th scope=col>Type</th><th scope=col>Missing</th><th scope=col>Zeros</th><th scope=col>PosInf</th><th scope=col>NegInf</th><th scope=col>Min</th><th scope=col>Max</th><th scope=col>Mean</th><th scope=col>Sigma</th><th scope=col>Cardinality</th></tr></thead>\n",
       "<tbody>\n",
       "\t<tr><td>loan_amnt            </td><td>int                  </td><td>0                    </td><td>0                    </td><td>0                    </td><td>0                    </td><td>500                  </td><td>35000                </td><td>13074.1691414563     </td><td>7993.55618873467     </td><td>NA                   </td></tr>\n",
       "\t<tr><td>term                 </td><td>enum                 </td><td>0                    </td><td>129950               </td><td>0                    </td><td>0                    </td><td>0                    </td><td>1                    </td><td>0.207559135785154    </td><td>0.405560530549521    </td><td>2                    </td></tr>\n",
       "\t<tr><td>int_rate             </td><td>real                 </td><td>0                    </td><td>0                    </td><td>0                    </td><td>0                    </td><td>5.42                 </td><td>26.06                </td><td>13.7159040655662     </td><td>4.39193987054581     </td><td>NA                   </td></tr>\n",
       "\t<tr><td>emp_length           </td><td>int                  </td><td>0                    </td><td>14248                </td><td>0                    </td><td>0                    </td><td>0                    </td><td>10                   </td><td>5.69552464524627     </td><td>3.54667110307881     </td><td>NA                   </td></tr>\n",
       "\t<tr><td>home_ownership       </td><td>enum                 </td><td>0                    </td><td>1                    </td><td>0                    </td><td>0                    </td><td>0                    </td><td>5                    </td><td>NA                   </td><td>NA                   </td><td>6                    </td></tr>\n",
       "\t<tr><td>annual_inc           </td><td>real                 </td><td>0                    </td><td>0                    </td><td>0                    </td><td>0                    </td><td>1896                 </td><td>7141778              </td><td>71915.404262777      </td><td>59070.2198125624     </td><td>NA                   </td></tr>\n",
       "\t<tr><td>purpose              </td><td>enum                 </td><td>0                    </td><td>2842                 </td><td>0                    </td><td>0                    </td><td>0                    </td><td>13                   </td><td>NA                   </td><td>NA                   </td><td>14                   </td></tr>\n",
       "\t<tr><td>addr_state           </td><td>enum                 </td><td>0                    </td><td>413                  </td><td>0                    </td><td>0                    </td><td>0                    </td><td>49                   </td><td>NA                   </td><td>NA                   </td><td>50                   </td></tr>\n",
       "\t<tr><td>dti                  </td><td>real                 </td><td>0                    </td><td>270                  </td><td>0                    </td><td>0                    </td><td>0                    </td><td>39.99                </td><td>15.8815301212902     </td><td>7.58766822419254     </td><td>NA                   </td></tr>\n",
       "\t<tr><td>delinq_2yrs          </td><td>int                  </td><td>0                    </td><td>139488               </td><td>0                    </td><td>0                    </td><td>0                    </td><td>29                   </td><td>0.227316799502399    </td><td>0.694113124115403    </td><td>NA                   </td></tr>\n",
       "\t<tr><td>revol_util           </td><td>real                 </td><td>0                    </td><td>1562                 </td><td>0                    </td><td>0                    </td><td>0                    </td><td>150.7                </td><td>54.081198082775      </td><td>25.2705517123563     </td><td>NA                   </td></tr>\n",
       "\t<tr><td>total_acc            </td><td>int                  </td><td>0                    </td><td>0                    </td><td>0                    </td><td>0                    </td><td>1                    </td><td>118                  </td><td>24.5794544689518     </td><td>11.6841759724766     </td><td>NA                   </td></tr>\n",
       "\t<tr><td>bad_loan             </td><td>enum                 </td><td>0                    </td><td>133971               </td><td>0                    </td><td>0                    </td><td>0                    </td><td>1                    </td><td>0.183038899424954    </td><td>0.386699589607887    </td><td>2                    </td></tr>\n",
       "\t<tr><td>longest_credit_length</td><td>int                  </td><td>0                    </td><td>11                   </td><td>0                    </td><td>0                    </td><td>0                    </td><td>65                   </td><td>14.8541225828877     </td><td>6.94712784863357     </td><td>NA                   </td></tr>\n",
       "\t<tr><td>verification_status  </td><td>enum                 </td><td>0                    </td><td>59155                </td><td>0                    </td><td>0                    </td><td>0                    </td><td>1                    </td><td>0.639270186051333    </td><td>0.480213724833117    </td><td>2                    </td></tr>\n",
       "</tbody>\n",
       "</table>\n"
      ],
      "text/latex": [
       "\\begin{tabular}{r|lllllllllll}\n",
       " Label & Type & Missing & Zeros & PosInf & NegInf & Min & Max & Mean & Sigma & Cardinality\\\\\n",
       "\\hline\n",
       "\t loan\\_amnt             & int                     & 0                       & 0                       & 0                       & 0                       & 500                     & 35000                   & 13074.1691414563        & 7993.55618873467        & NA                     \\\\\n",
       "\t term                  & enum                  & 0                     & 129950                & 0                     & 0                     & 0                     & 1                     & 0.207559135785154     & 0.405560530549521     & 2                    \\\\\n",
       "\t int\\_rate              & real                    & 0                       & 0                       & 0                       & 0                       & 5.42                    & 26.06                   & 13.7159040655662        & 4.39193987054581        & NA                     \\\\\n",
       "\t emp\\_length            & int                     & 0                       & 14248                   & 0                       & 0                       & 0                       & 10                      & 5.69552464524627        & 3.54667110307881        & NA                     \\\\\n",
       "\t home\\_ownership        & enum                    & 0                       & 1                       & 0                       & 0                       & 0                       & 5                       & NA                      & NA                      & 6                      \\\\\n",
       "\t annual\\_inc            & real                    & 0                       & 0                       & 0                       & 0                       & 1896                    & 7141778                 & 71915.404262777         & 59070.2198125624        & NA                     \\\\\n",
       "\t purpose               & enum                  & 0                     & 2842                  & 0                     & 0                     & 0                     & 13                    & NA                    & NA                    & 14                   \\\\\n",
       "\t addr\\_state            & enum                    & 0                       & 413                     & 0                       & 0                       & 0                       & 49                      & NA                      & NA                      & 50                     \\\\\n",
       "\t dti                   & real                  & 0                     & 270                   & 0                     & 0                     & 0                     & 39.99                 & 15.8815301212902      & 7.58766822419254      & NA                   \\\\\n",
       "\t delinq\\_2yrs           & int                     & 0                       & 139488                  & 0                       & 0                       & 0                       & 29                      & 0.227316799502399       & 0.694113124115403       & NA                     \\\\\n",
       "\t revol\\_util            & real                    & 0                       & 1562                    & 0                       & 0                       & 0                       & 150.7                   & 54.081198082775         & 25.2705517123563        & NA                     \\\\\n",
       "\t total\\_acc             & int                     & 0                       & 0                       & 0                       & 0                       & 1                       & 118                     & 24.5794544689518        & 11.6841759724766        & NA                     \\\\\n",
       "\t bad\\_loan              & enum                    & 0                       & 133971                  & 0                       & 0                       & 0                       & 1                       & 0.183038899424954       & 0.386699589607887       & 2                      \\\\\n",
       "\t longest\\_credit\\_length & int                       & 0                         & 11                        & 0                         & 0                         & 0                         & 65                        & 14.8541225828877          & 6.94712784863357          & NA                       \\\\\n",
       "\t verification\\_status   & enum                    & 0                       & 59155                   & 0                       & 0                       & 0                       & 1                       & 0.639270186051333       & 0.480213724833117       & 2                      \\\\\n",
       "\\end{tabular}\n"
      ],
      "text/markdown": [
       "\n",
       "Label | Type | Missing | Zeros | PosInf | NegInf | Min | Max | Mean | Sigma | Cardinality | \n",
       "|---|---|---|---|---|---|---|---|---|---|---|---|---|---|---|\n",
       "| loan_amnt             | int                   | 0                     | 0                     | 0                     | 0                     | 500                   | 35000                 | 13074.1691414563      | 7993.55618873467      | NA                    | \n",
       "| term                  | enum                  | 0                     | 129950                | 0                     | 0                     | 0                     | 1                     | 0.207559135785154     | 0.405560530549521     | 2                     | \n",
       "| int_rate              | real                  | 0                     | 0                     | 0                     | 0                     | 5.42                  | 26.06                 | 13.7159040655662      | 4.39193987054581      | NA                    | \n",
       "| emp_length            | int                   | 0                     | 14248                 | 0                     | 0                     | 0                     | 10                    | 5.69552464524627      | 3.54667110307881      | NA                    | \n",
       "| home_ownership        | enum                  | 0                     | 1                     | 0                     | 0                     | 0                     | 5                     | NA                    | NA                    | 6                     | \n",
       "| annual_inc            | real                  | 0                     | 0                     | 0                     | 0                     | 1896                  | 7141778               | 71915.404262777       | 59070.2198125624      | NA                    | \n",
       "| purpose               | enum                  | 0                     | 2842                  | 0                     | 0                     | 0                     | 13                    | NA                    | NA                    | 14                    | \n",
       "| addr_state            | enum                  | 0                     | 413                   | 0                     | 0                     | 0                     | 49                    | NA                    | NA                    | 50                    | \n",
       "| dti                   | real                  | 0                     | 270                   | 0                     | 0                     | 0                     | 39.99                 | 15.8815301212902      | 7.58766822419254      | NA                    | \n",
       "| delinq_2yrs           | int                   | 0                     | 139488                | 0                     | 0                     | 0                     | 29                    | 0.227316799502399     | 0.694113124115403     | NA                    | \n",
       "| revol_util            | real                  | 0                     | 1562                  | 0                     | 0                     | 0                     | 150.7                 | 54.081198082775       | 25.2705517123563      | NA                    | \n",
       "| total_acc             | int                   | 0                     | 0                     | 0                     | 0                     | 1                     | 118                   | 24.5794544689518      | 11.6841759724766      | NA                    | \n",
       "| bad_loan              | enum                  | 0                     | 133971                | 0                     | 0                     | 0                     | 1                     | 0.183038899424954     | 0.386699589607887     | 2                     | \n",
       "| longest_credit_length | int                   | 0                     | 11                    | 0                     | 0                     | 0                     | 65                    | 14.8541225828877      | 6.94712784863357      | NA                    | \n",
       "| verification_status   | enum                  | 0                     | 59155                 | 0                     | 0                     | 0                     | 1                     | 0.639270186051333     | 0.480213724833117     | 2                     | \n",
       "\n",
       "\n"
      ],
      "text/plain": [
       "   Label                 Type Missing Zeros  PosInf NegInf Min  Max    \n",
       "1  loan_amnt             int  0       0      0      0      500  35000  \n",
       "2  term                  enum 0       129950 0      0      0    1      \n",
       "3  int_rate              real 0       0      0      0      5.42 26.06  \n",
       "4  emp_length            int  0       14248  0      0      0    10     \n",
       "5  home_ownership        enum 0       1      0      0      0    5      \n",
       "6  annual_inc            real 0       0      0      0      1896 7141778\n",
       "7  purpose               enum 0       2842   0      0      0    13     \n",
       "8  addr_state            enum 0       413    0      0      0    49     \n",
       "9  dti                   real 0       270    0      0      0    39.99  \n",
       "10 delinq_2yrs           int  0       139488 0      0      0    29     \n",
       "11 revol_util            real 0       1562   0      0      0    150.7  \n",
       "12 total_acc             int  0       0      0      0      1    118    \n",
       "13 bad_loan              enum 0       133971 0      0      0    1      \n",
       "14 longest_credit_length int  0       11     0      0      0    65     \n",
       "15 verification_status   enum 0       59155  0      0      0    1      \n",
       "   Mean              Sigma             Cardinality\n",
       "1  13074.1691414563  7993.55618873467  NA         \n",
       "2  0.207559135785154 0.405560530549521 2          \n",
       "3  13.7159040655662  4.39193987054581  NA         \n",
       "4  5.69552464524627  3.54667110307881  NA         \n",
       "5  NA                NA                6          \n",
       "6  71915.404262777   59070.2198125624  NA         \n",
       "7  NA                NA                14         \n",
       "8  NA                NA                50         \n",
       "9  15.8815301212902  7.58766822419254  NA         \n",
       "10 0.227316799502399 0.694113124115403 NA         \n",
       "11 54.081198082775   25.2705517123563  NA         \n",
       "12 24.5794544689518  11.6841759724766  NA         \n",
       "13 0.183038899424954 0.386699589607887 2          \n",
       "14 14.8541225828877  6.94712784863357  NA         \n",
       "15 0.639270186051333 0.480213724833117 2          "
      ]
     },
     "metadata": {},
     "output_type": "display_data"
    }
   ],
   "source": [
    "h2o.describe(frame) # summarize table, check for missing"
   ]
  },
  {
   "cell_type": "code",
   "execution_count": 12,
   "metadata": {
    "collapsed": false
   },
   "outputs": [
    {
     "name": "stdout",
     "output_type": "stream",
     "text": [
      "[1] \"bad_loan\"\n",
      " [1] \"loan_amnt\"             \"term\"                  \"int_rate\"             \n",
      " [4] \"emp_length\"            \"home_ownership\"        \"annual_inc\"           \n",
      " [7] \"purpose\"               \"addr_state\"            \"dti\"                  \n",
      "[10] \"delinq_2yrs\"           \"revol_util\"            \"total_acc\"            \n",
      "[13] \"longest_credit_length\" \"verification_status\"  \n"
     ]
    }
   ],
   "source": [
    "# assign target and inputs\n",
    "y <- 'bad_loan'\n",
    "X <- names(frame)[names(frame) != y]\n",
    "print(y)\n",
    "print(X)"
   ]
  },
  {
   "cell_type": "code",
   "execution_count": 13,
   "metadata": {
    "collapsed": false
   },
   "outputs": [
    {
     "name": "stdout",
     "output_type": "stream",
     "text": [
      "\r",
      "  |                                                                            \r",
      "  |                                                                      |   0%\r",
      "  |                                                                            \r",
      "  |======================================================================| 100%\n"
     ]
    },
    {
     "data": {
      "text/plain": [
       "Model Details:\n",
       "==============\n",
       "\n",
       "H2OClusteringModel: kmeans\n",
       "Model ID:  loan_clusters \n",
       "Model Summary: \n",
       "  number_of_rows number_of_clusters number_of_categorical_columns\n",
       "1         163987                  3                             5\n",
       "  number_of_iterations within_cluster_sum_of_squares total_sum_of_squares\n",
       "1                   10                 1609741.61159        1859350.00000\n",
       "  between_cluster_sum_of_squares\n",
       "1                   249608.38841\n",
       "\n",
       "\n",
       "H2OClusteringMetrics: kmeans\n",
       "** Reported on training data. **\n",
       "\n",
       "\n",
       "Total Within SS:  1597736\n",
       "Between SS:  261613.7\n",
       "Total SS:  1859350 \n",
       "Centroid Statistics: \n",
       "  centroid         size within_cluster_sum_of_squares\n",
       "1        1 102058.00000                  848270.00072\n",
       "2        2      6.00000                    1899.48161\n",
       "3        3  61923.00000                  747566.83142\n",
       "\n",
       "\n"
      ]
     },
     "metadata": {},
     "output_type": "display_data"
    }
   ],
   "source": [
    "# train k-means cluster model\n",
    "# print summary\n",
    "loan_clusters <- h2o.kmeans(training_frame = frame, \n",
    "                            x = X, \n",
    "                            model_id = \"loan_clusters\",\n",
    "                            k = 3,\n",
    "                            estimate_k = FALSE, \n",
    "                            standardize = TRUE,\n",
    "                            seed=12345)\n",
    "\n",
    "loan_clusters\n",
    "\n",
    "# view detailed results at http://ip:port/flow/index.html"
   ]
  },
  {
   "cell_type": "code",
   "execution_count": 14,
   "metadata": {
    "collapsed": false
   },
   "outputs": [
    {
     "name": "stdout",
     "output_type": "stream",
     "text": [
      "\r",
      "  |                                                                            \r",
      "  |                                                                      |   0%\r",
      "  |                                                                            \r",
      "  |======================================================================| 100%\n"
     ]
    },
    {
     "data": {
      "text/plain": [
       "  predict\n",
       "1       0\n",
       "2       0\n",
       "3       0\n",
       "4       0\n",
       "5       0\n",
       "6       0\n",
       "\n",
       "[163987 rows x 1 column] "
      ]
     },
     "metadata": {},
     "output_type": "display_data"
    }
   ],
   "source": [
    "# join cluster labels to original data for further analysis\n",
    "labels = predict(loan_clusters, frame)\n",
    "labeled_frame = h2o.cbind(frame, labels)\n",
    "labeled_frame[\"predict\"]"
   ]
  },
  {
   "cell_type": "code",
   "execution_count": 15,
   "metadata": {
    "collapsed": false
   },
   "outputs": [
    {
     "data": {
      "text/html": [
       "<table>\n",
       "<thead><tr><th scope=col>predict</th><th scope=col>mean_int_rate</th><th scope=col>mean_annual_inc</th></tr></thead>\n",
       "<tbody>\n",
       "\t<tr><td>0         </td><td>12.95983  </td><td>  57154.57</td></tr>\n",
       "\t<tr><td>1         </td><td>11.93000  </td><td>5506963.00</td></tr>\n",
       "\t<tr><td>2         </td><td>14.96219  </td><td>  95716.76</td></tr>\n",
       "</tbody>\n",
       "</table>\n"
      ],
      "text/latex": [
       "\\begin{tabular}{r|lll}\n",
       " predict & mean\\_int\\_rate & mean\\_annual\\_inc\\\\\n",
       "\\hline\n",
       "\t 0          & 12.95983   &   57154.57\\\\\n",
       "\t 1          & 11.93000   & 5506963.00\\\\\n",
       "\t 2          & 14.96219   &   95716.76\\\\\n",
       "\\end{tabular}\n"
      ],
      "text/markdown": [
       "\n",
       "predict | mean_int_rate | mean_annual_inc | \n",
       "|---|---|---|\n",
       "| 0          | 12.95983   |   57154.57 | \n",
       "| 1          | 11.93000   | 5506963.00 | \n",
       "| 2          | 14.96219   |   95716.76 | \n",
       "\n",
       "\n"
      ],
      "text/plain": [
       "  predict mean_int_rate mean_annual_inc\n",
       "1 0       12.95983        57154.57     \n",
       "2 1       11.93000      5506963.00     \n",
       "3 2       14.96219        95716.76     "
      ]
     },
     "metadata": {},
     "output_type": "display_data"
    }
   ],
   "source": [
    "# profile clusters by means\n",
    "grouped <- h2o.group_by(labeled_frame, by = \"predict\", mean(\"int_rate\"), mean(\"annual_inc\"))\n",
    "as.data.frame(grouped)"
   ]
  },
  {
   "cell_type": "code",
   "execution_count": 16,
   "metadata": {
    "collapsed": false
   },
   "outputs": [
    {
     "name": "stdout",
     "output_type": "stream",
     "text": [
      "\r",
      "  |                                                                            \r",
      "  |                                                                      |   0%\r",
      "  |                                                                            \r",
      "  |======================================================================| 100%\n"
     ]
    },
    {
     "name": "stderr",
     "output_type": "stream",
     "text": [
      "Warning message in doTryCatch(return(expr), name, parentenv, handler):\n",
      "“_train: Dataset used may contain fewer number of rows due to removal of rows with NA/missing values.  If this is not desirable, set impute_missing argument in pca call to TRUE/True/true/... depending on the client language.”"
     ]
    },
    {
     "name": "stdout",
     "output_type": "stream",
     "text": [
      "\r",
      "  |                                                                            \r",
      "  |                                                                      |   0%\r",
      "  |                                                                            \r",
      "  |========================================================              |  80%\r",
      "  |                                                                            \r",
      "  |======================================================================| 100%\n"
     ]
    },
    {
     "data": {
      "text/html": [
       "<table>\n",
       "<thead><tr><th scope=col>predict</th><th scope=col>PC1</th><th scope=col>PC2</th></tr></thead>\n",
       "<tbody>\n",
       "\t<tr><td>0          </td><td> 0.05610949</td><td>-0.8374850 </td></tr>\n",
       "\t<tr><td>0          </td><td>-3.11333746</td><td> 0.7940098 </td></tr>\n",
       "\t<tr><td>0          </td><td>-1.26824693</td><td>-1.5364829 </td></tr>\n",
       "\t<tr><td>0          </td><td> 0.40730855</td><td> 0.7931426 </td></tr>\n",
       "\t<tr><td>0          </td><td>-2.60232474</td><td> 0.7989964 </td></tr>\n",
       "\t<tr><td>0          </td><td>-1.75990811</td><td>-1.6553161 </td></tr>\n",
       "\t<tr><td>0          </td><td>-1.81613988</td><td>-0.6316815 </td></tr>\n",
       "\t<tr><td>0          </td><td>-2.79776421</td><td>-0.6809687 </td></tr>\n",
       "\t<tr><td>0          </td><td>-0.85698362</td><td> 0.5213668 </td></tr>\n",
       "\t<tr><td>2          </td><td> 0.98527271</td><td> 0.6625323 </td></tr>\n",
       "</tbody>\n",
       "</table>\n"
      ],
      "text/latex": [
       "\\begin{tabular}{r|lll}\n",
       " predict & PC1 & PC2\\\\\n",
       "\\hline\n",
       "\t 0           &  0.05610949 & -0.8374850 \\\\\n",
       "\t 0           & -3.11333746 &  0.7940098 \\\\\n",
       "\t 0           & -1.26824693 & -1.5364829 \\\\\n",
       "\t 0           &  0.40730855 &  0.7931426 \\\\\n",
       "\t 0           & -2.60232474 &  0.7989964 \\\\\n",
       "\t 0           & -1.75990811 & -1.6553161 \\\\\n",
       "\t 0           & -1.81613988 & -0.6316815 \\\\\n",
       "\t 0           & -2.79776421 & -0.6809687 \\\\\n",
       "\t 0           & -0.85698362 &  0.5213668 \\\\\n",
       "\t 2           &  0.98527271 &  0.6625323 \\\\\n",
       "\\end{tabular}\n"
      ],
      "text/markdown": [
       "\n",
       "predict | PC1 | PC2 | \n",
       "|---|---|---|---|---|---|---|---|---|---|\n",
       "| 0           |  0.05610949 | -0.8374850  | \n",
       "| 0           | -3.11333746 |  0.7940098  | \n",
       "| 0           | -1.26824693 | -1.5364829  | \n",
       "| 0           |  0.40730855 |  0.7931426  | \n",
       "| 0           | -2.60232474 |  0.7989964  | \n",
       "| 0           | -1.75990811 | -1.6553161  | \n",
       "| 0           | -1.81613988 | -0.6316815  | \n",
       "| 0           | -2.79776421 | -0.6809687  | \n",
       "| 0           | -0.85698362 |  0.5213668  | \n",
       "| 2           |  0.98527271 |  0.6625323  | \n",
       "\n",
       "\n"
      ],
      "text/plain": [
       "   predict PC1         PC2       \n",
       "1  0        0.05610949 -0.8374850\n",
       "2  0       -3.11333746  0.7940098\n",
       "3  0       -1.26824693 -1.5364829\n",
       "4  0        0.40730855  0.7931426\n",
       "5  0       -2.60232474  0.7989964\n",
       "6  0       -1.75990811 -1.6553161\n",
       "7  0       -1.81613988 -0.6316815\n",
       "8  0       -2.79776421 -0.6809687\n",
       "9  0       -0.85698362  0.5213668\n",
       "10 2        0.98527271  0.6625323"
      ]
     },
     "metadata": {},
     "output_type": "display_data"
    }
   ],
   "source": [
    "# project numeric training data onto 2-D using principal components\n",
    "# join with clusters labels\n",
    "numerics <- h2o.columns_by_type(frame, type = \"numeric\")\n",
    "loan_pca <- h2o.prcomp(frame, numerics, k = 2, transform = \"STANDARDIZE\") # project onto 2 PCs\n",
    "features <- h2o.cbind(labeled_frame, predict(loan_pca, labeled_frame))\n",
    "features <- as.data.frame(features[, c(\"predict\", \"PC1\", \"PC2\")])\n",
    "features[1:10,]"
   ]
  },
  {
   "cell_type": "code",
   "execution_count": 17,
   "metadata": {
    "collapsed": false
   },
   "outputs": [
    {
     "data": {},
     "metadata": {},
     "output_type": "display_data"
    },
    {
     "data": {
      "image/png": "[encoded data removed]",
      "text/plain": [
       "plot without title"
      ]
     },
     "metadata": {},
     "output_type": "display_data"
    }
   ],
   "source": [
    "# plot clusters with labels in 2-D space\n",
    "features$predict <- as.factor(features$predict)\n",
    "ggplot(features, aes(x=PC1, y=PC2, color=predict)) + geom_point()"
   ]
  },
  {
   "cell_type": "code",
   "execution_count": 18,
   "metadata": {
    "collapsed": false
   },
   "outputs": [
    {
     "data": {
      "text/html": [
       "TRUE"
      ],
      "text/latex": [
       "TRUE"
      ],
      "text/markdown": [
       "TRUE"
      ],
      "text/plain": [
       "[1] TRUE"
      ]
     },
     "metadata": {},
     "output_type": "display_data"
    }
   ],
   "source": [
    "h2o.shutdown(prompt = FALSE)"
   ]
  }
 ],
 "metadata": {
  "anaconda-cloud": {},
  "kernelspec": {
   "display_name": "R",
   "language": "R",
   "name": "ir"
  },
  "language_info": {
   "codemirror_mode": "r",
   "file_extension": ".r",
   "mimetype": "text/x-r-source",
   "name": "R",
   "pygments_lexer": "r",
   "version": "3.3.2"
  }
 },
 "nbformat": 4,
 "nbformat_minor": 2
}
