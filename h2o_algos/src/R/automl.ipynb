{
 "cells": [
  {
   "cell_type": "code",
   "execution_count": 1,
   "metadata": {
    "collapsed": false
   },
   "outputs": [
    {
     "name": "stderr",
     "output_type": "stream",
     "text": [
      "\n",
      "----------------------------------------------------------------------\n",
      "\n",
      "Your next step is to start H2O:\n",
      "    > h2o.init()\n",
      "\n",
      "For H2O package documentation, ask for help:\n",
      "    > ??h2o\n",
      "\n",
      "After starting H2O, you can use the Web UI at http://localhost:54321\n",
      "For more information visit http://docs.h2o.ai\n",
      "\n",
      "----------------------------------------------------------------------\n",
      "\n",
      "\n",
      "Attaching package: ‘h2o’\n",
      "\n",
      "The following objects are masked from ‘package:stats’:\n",
      "\n",
      "    cor, sd, var\n",
      "\n",
      "The following objects are masked from ‘package:base’:\n",
      "\n",
      "    &&, %*%, %in%, ||, apply, as.factor, as.numeric, colnames,\n",
      "    colnames<-, ifelse, is.character, is.factor, is.numeric, log,\n",
      "    log10, log1p, log2, round, signif, trunc\n",
      "\n"
     ]
    },
    {
     "name": "stdout",
     "output_type": "stream",
     "text": [
      "\n",
      "H2O is not running yet, starting it now...\n",
      "\n",
      "Note:  In case of errors look at the following log files:\n",
      "    /var/folders/tc/0ss1l73113j3wdyjsxmy1j2r0000gn/T//Rtmpt94xib/h2o_phall_started_from_r.out\n",
      "    /var/folders/tc/0ss1l73113j3wdyjsxmy1j2r0000gn/T//Rtmpt94xib/h2o_phall_started_from_r.err\n",
      "\n",
      "\n",
      "Starting H2O JVM and connecting: .. Connection successful!\n",
      "\n",
      "R is connected to the H2O cluster: \n",
      "    H2O cluster uptime:         1 seconds 770 milliseconds \n",
      "    H2O cluster version:        3.12.0.1 \n",
      "    H2O cluster version age:    29 days  \n",
      "    H2O cluster name:           H2O_started_from_R_phall_vno587 \n",
      "    H2O cluster total nodes:    1 \n",
      "    H2O cluster total memory:   3.56 GB \n",
      "    H2O cluster total cores:    8 \n",
      "    H2O cluster allowed cores:  8 \n",
      "    H2O cluster healthy:        TRUE \n",
      "    H2O Connection ip:          localhost \n",
      "    H2O Connection port:        54321 \n",
      "    H2O Connection proxy:       NA \n",
      "    H2O Internal Security:      FALSE \n",
      "    R Version:                  R version 3.3.2 (2016-10-31) \n",
      "\n"
     ]
    }
   ],
   "source": [
    "# import h2o lib and allow it to use max. threads\n",
    "library(h2o)\n",
    "h2o.init(nthreads = -1)"
   ]
  },
  {
   "cell_type": "code",
   "execution_count": 2,
   "metadata": {
    "collapsed": false
   },
   "outputs": [],
   "source": [
    "# location of clean data file\n",
    "path <- \"/Users/phall/Documents/aetna/share/data/loan.csv\""
   ]
  },
  {
   "cell_type": "code",
   "execution_count": 3,
   "metadata": {
    "collapsed": false
   },
   "outputs": [
    {
     "name": "stdout",
     "output_type": "stream",
     "text": [
      "\r",
      "  |                                                                            \r",
      "  |                                                                      |   0%\r",
      "  |                                                                            \r",
      "  |=============================================================         |  87%\r",
      "  |                                                                            \r",
      "  |======================================================================| 100%\n"
     ]
    }
   ],
   "source": [
    "# import file\n",
    "frame <- h2o.importFile(path)\n",
    "\n",
    "# strings automatically parsed as enums (categorical)\n",
    "# numbers automatically parsed as numeric\n",
    "# bad_loan is numeric, but categorical\n",
    "frame$bad_loan <- as.factor(frame$bad_loan)"
   ]
  },
  {
   "cell_type": "code",
   "execution_count": 4,
   "metadata": {
    "collapsed": false
   },
   "outputs": [],
   "source": [
    "# find missing numeric and impute\n",
    "for (name in names(frame)) {\n",
    "  if (any(is.na(frame[name]))) {\n",
    "      h2o.impute(frame, name, \"median\")\n",
    "  }\n",
    "}"
   ]
  },
  {
   "cell_type": "code",
   "execution_count": 5,
   "metadata": {
    "collapsed": false
   },
   "outputs": [
    {
     "data": {
      "text/html": [
       "<table>\n",
       "<thead><tr><th scope=col>Label</th><th scope=col>Type</th><th scope=col>Missing</th><th scope=col>Zeros</th><th scope=col>PosInf</th><th scope=col>NegInf</th><th scope=col>Min</th><th scope=col>Max</th><th scope=col>Mean</th><th scope=col>Sigma</th><th scope=col>Cardinality</th></tr></thead>\n",
       "<tbody>\n",
       "\t<tr><td>loan_amnt            </td><td>int                  </td><td>0                    </td><td>     0               </td><td>0                    </td><td>0                    </td><td> 500.00              </td><td>  35000.00           </td><td>1.307417e+04         </td><td>7.993556e+03         </td><td>NA                   </td></tr>\n",
       "\t<tr><td>term                 </td><td>enum                 </td><td>0                    </td><td>129950               </td><td>0                    </td><td>0                    </td><td>   0.00              </td><td>      1.00           </td><td>2.075591e-01         </td><td>4.055605e-01         </td><td> 2                   </td></tr>\n",
       "\t<tr><td>int_rate             </td><td>real                 </td><td>0                    </td><td>     0               </td><td>0                    </td><td>0                    </td><td>   5.42              </td><td>     26.06           </td><td>1.371590e+01         </td><td>4.391940e+00         </td><td>NA                   </td></tr>\n",
       "\t<tr><td>emp_length           </td><td>int                  </td><td>0                    </td><td> 14248               </td><td>0                    </td><td>0                    </td><td>   0.00              </td><td>     10.00           </td><td>5.695525e+00         </td><td>3.546671e+00         </td><td>NA                   </td></tr>\n",
       "\t<tr><td>home_ownership       </td><td>enum                 </td><td>0                    </td><td>     1               </td><td>0                    </td><td>0                    </td><td>   0.00              </td><td>      5.00           </td><td>          NA         </td><td>          NA         </td><td> 6                   </td></tr>\n",
       "\t<tr><td>annual_inc           </td><td>real                 </td><td>0                    </td><td>     0               </td><td>0                    </td><td>0                    </td><td>1896.00              </td><td>7141778.00           </td><td>7.191540e+04         </td><td>5.907022e+04         </td><td>NA                   </td></tr>\n",
       "\t<tr><td>purpose              </td><td>enum                 </td><td>0                    </td><td>  2842               </td><td>0                    </td><td>0                    </td><td>   0.00              </td><td>     13.00           </td><td>          NA         </td><td>          NA         </td><td>14                   </td></tr>\n",
       "\t<tr><td>addr_state           </td><td>enum                 </td><td>0                    </td><td>   413               </td><td>0                    </td><td>0                    </td><td>   0.00              </td><td>     49.00           </td><td>          NA         </td><td>          NA         </td><td>50                   </td></tr>\n",
       "\t<tr><td>dti                  </td><td>real                 </td><td>0                    </td><td>   270               </td><td>0                    </td><td>0                    </td><td>   0.00              </td><td>     39.99           </td><td>1.588153e+01         </td><td>7.587668e+00         </td><td>NA                   </td></tr>\n",
       "\t<tr><td>delinq_2yrs          </td><td>int                  </td><td>0                    </td><td>139488               </td><td>0                    </td><td>0                    </td><td>   0.00              </td><td>     29.00           </td><td>2.273168e-01         </td><td>6.941131e-01         </td><td>NA                   </td></tr>\n",
       "\t<tr><td>revol_util           </td><td>real                 </td><td>0                    </td><td>  1562               </td><td>0                    </td><td>0                    </td><td>   0.00              </td><td>    150.70           </td><td>5.408120e+01         </td><td>2.527055e+01         </td><td>NA                   </td></tr>\n",
       "\t<tr><td>total_acc            </td><td>int                  </td><td>0                    </td><td>     0               </td><td>0                    </td><td>0                    </td><td>   1.00              </td><td>    118.00           </td><td>2.457945e+01         </td><td>1.168418e+01         </td><td>NA                   </td></tr>\n",
       "\t<tr><td>bad_loan             </td><td>enum                 </td><td>0                    </td><td>133971               </td><td>0                    </td><td>0                    </td><td>   0.00              </td><td>      1.00           </td><td>1.830389e-01         </td><td>3.866996e-01         </td><td> 2                   </td></tr>\n",
       "\t<tr><td>longest_credit_length</td><td>int                  </td><td>0                    </td><td>    11               </td><td>0                    </td><td>0                    </td><td>   0.00              </td><td>     65.00           </td><td>1.485412e+01         </td><td>6.947128e+00         </td><td>NA                   </td></tr>\n",
       "\t<tr><td>verification_status  </td><td>enum                 </td><td>0                    </td><td> 59155               </td><td>0                    </td><td>0                    </td><td>   0.00              </td><td>      1.00           </td><td>6.392702e-01         </td><td>4.802137e-01         </td><td> 2                   </td></tr>\n",
       "</tbody>\n",
       "</table>\n"
      ],
      "text/latex": [
       "\\begin{tabular}{r|lllllllllll}\n",
       " Label & Type & Missing & Zeros & PosInf & NegInf & Min & Max & Mean & Sigma & Cardinality\\\\\n",
       "\\hline\n",
       "\t loan\\_amnt             & int                     & 0                       &      0                  & 0                       & 0                       &  500.00                 &   35000.00              & 1.307417e+04            & 7.993556e+03            & NA                     \\\\\n",
       "\t term                  & enum                  & 0                     & 129950                & 0                     & 0                     &    0.00               &       1.00            & 2.075591e-01          & 4.055605e-01          &  2                   \\\\\n",
       "\t int\\_rate              & real                    & 0                       &      0                  & 0                       & 0                       &    5.42                 &      26.06              & 1.371590e+01            & 4.391940e+00            & NA                     \\\\\n",
       "\t emp\\_length            & int                     & 0                       &  14248                  & 0                       & 0                       &    0.00                 &      10.00              & 5.695525e+00            & 3.546671e+00            & NA                     \\\\\n",
       "\t home\\_ownership        & enum                    & 0                       &      1                  & 0                       & 0                       &    0.00                 &       5.00              &           NA            &           NA            &  6                     \\\\\n",
       "\t annual\\_inc            & real                    & 0                       &      0                  & 0                       & 0                       & 1896.00                 & 7141778.00              & 7.191540e+04            & 5.907022e+04            & NA                     \\\\\n",
       "\t purpose               & enum                  & 0                     &   2842                & 0                     & 0                     &    0.00               &      13.00            &           NA          &           NA          & 14                   \\\\\n",
       "\t addr\\_state            & enum                    & 0                       &    413                  & 0                       & 0                       &    0.00                 &      49.00              &           NA            &           NA            & 50                     \\\\\n",
       "\t dti                   & real                  & 0                     &    270                & 0                     & 0                     &    0.00               &      39.99            & 1.588153e+01          & 7.587668e+00          & NA                   \\\\\n",
       "\t delinq\\_2yrs           & int                     & 0                       & 139488                  & 0                       & 0                       &    0.00                 &      29.00              & 2.273168e-01            & 6.941131e-01            & NA                     \\\\\n",
       "\t revol\\_util            & real                    & 0                       &   1562                  & 0                       & 0                       &    0.00                 &     150.70              & 5.408120e+01            & 2.527055e+01            & NA                     \\\\\n",
       "\t total\\_acc             & int                     & 0                       &      0                  & 0                       & 0                       &    1.00                 &     118.00              & 2.457945e+01            & 1.168418e+01            & NA                     \\\\\n",
       "\t bad\\_loan              & enum                    & 0                       & 133971                  & 0                       & 0                       &    0.00                 &       1.00              & 1.830389e-01            & 3.866996e-01            &  2                     \\\\\n",
       "\t longest\\_credit\\_length & int                       & 0                         &     11                    & 0                         & 0                         &    0.00                   &      65.00                & 1.485412e+01              & 6.947128e+00              & NA                       \\\\\n",
       "\t verification\\_status   & enum                    & 0                       &  59155                  & 0                       & 0                       &    0.00                 &       1.00              & 6.392702e-01            & 4.802137e-01            &  2                     \\\\\n",
       "\\end{tabular}\n"
      ],
      "text/markdown": [
       "\n",
       "Label | Type | Missing | Zeros | PosInf | NegInf | Min | Max | Mean | Sigma | Cardinality | \n",
       "|---|---|---|---|---|---|---|---|---|---|---|---|---|---|---|\n",
       "| loan_amnt             | int                   | 0                     |      0                | 0                     | 0                     |  500.00               |   35000.00            | 1.307417e+04          | 7.993556e+03          | NA                    | \n",
       "| term                  | enum                  | 0                     | 129950                | 0                     | 0                     |    0.00               |       1.00            | 2.075591e-01          | 4.055605e-01          |  2                    | \n",
       "| int_rate              | real                  | 0                     |      0                | 0                     | 0                     |    5.42               |      26.06            | 1.371590e+01          | 4.391940e+00          | NA                    | \n",
       "| emp_length            | int                   | 0                     |  14248                | 0                     | 0                     |    0.00               |      10.00            | 5.695525e+00          | 3.546671e+00          | NA                    | \n",
       "| home_ownership        | enum                  | 0                     |      1                | 0                     | 0                     |    0.00               |       5.00            |           NA          |           NA          |  6                    | \n",
       "| annual_inc            | real                  | 0                     |      0                | 0                     | 0                     | 1896.00               | 7141778.00            | 7.191540e+04          | 5.907022e+04          | NA                    | \n",
       "| purpose               | enum                  | 0                     |   2842                | 0                     | 0                     |    0.00               |      13.00            |           NA          |           NA          | 14                    | \n",
       "| addr_state            | enum                  | 0                     |    413                | 0                     | 0                     |    0.00               |      49.00            |           NA          |           NA          | 50                    | \n",
       "| dti                   | real                  | 0                     |    270                | 0                     | 0                     |    0.00               |      39.99            | 1.588153e+01          | 7.587668e+00          | NA                    | \n",
       "| delinq_2yrs           | int                   | 0                     | 139488                | 0                     | 0                     |    0.00               |      29.00            | 2.273168e-01          | 6.941131e-01          | NA                    | \n",
       "| revol_util            | real                  | 0                     |   1562                | 0                     | 0                     |    0.00               |     150.70            | 5.408120e+01          | 2.527055e+01          | NA                    | \n",
       "| total_acc             | int                   | 0                     |      0                | 0                     | 0                     |    1.00               |     118.00            | 2.457945e+01          | 1.168418e+01          | NA                    | \n",
       "| bad_loan              | enum                  | 0                     | 133971                | 0                     | 0                     |    0.00               |       1.00            | 1.830389e-01          | 3.866996e-01          |  2                    | \n",
       "| longest_credit_length | int                   | 0                     |     11                | 0                     | 0                     |    0.00               |      65.00            | 1.485412e+01          | 6.947128e+00          | NA                    | \n",
       "| verification_status   | enum                  | 0                     |  59155                | 0                     | 0                     |    0.00               |       1.00            | 6.392702e-01          | 4.802137e-01          |  2                    | \n",
       "\n",
       "\n"
      ],
      "text/plain": [
       "   Label                 Type Missing Zeros  PosInf NegInf Min     Max       \n",
       "1  loan_amnt             int  0            0 0      0       500.00   35000.00\n",
       "2  term                  enum 0       129950 0      0         0.00       1.00\n",
       "3  int_rate              real 0            0 0      0         5.42      26.06\n",
       "4  emp_length            int  0        14248 0      0         0.00      10.00\n",
       "5  home_ownership        enum 0            1 0      0         0.00       5.00\n",
       "6  annual_inc            real 0            0 0      0      1896.00 7141778.00\n",
       "7  purpose               enum 0         2842 0      0         0.00      13.00\n",
       "8  addr_state            enum 0          413 0      0         0.00      49.00\n",
       "9  dti                   real 0          270 0      0         0.00      39.99\n",
       "10 delinq_2yrs           int  0       139488 0      0         0.00      29.00\n",
       "11 revol_util            real 0         1562 0      0         0.00     150.70\n",
       "12 total_acc             int  0            0 0      0         1.00     118.00\n",
       "13 bad_loan              enum 0       133971 0      0         0.00       1.00\n",
       "14 longest_credit_length int  0           11 0      0         0.00      65.00\n",
       "15 verification_status   enum 0        59155 0      0         0.00       1.00\n",
       "   Mean         Sigma        Cardinality\n",
       "1  1.307417e+04 7.993556e+03 NA         \n",
       "2  2.075591e-01 4.055605e-01  2         \n",
       "3  1.371590e+01 4.391940e+00 NA         \n",
       "4  5.695525e+00 3.546671e+00 NA         \n",
       "5            NA           NA  6         \n",
       "6  7.191540e+04 5.907022e+04 NA         \n",
       "7            NA           NA 14         \n",
       "8            NA           NA 50         \n",
       "9  1.588153e+01 7.587668e+00 NA         \n",
       "10 2.273168e-01 6.941131e-01 NA         \n",
       "11 5.408120e+01 2.527055e+01 NA         \n",
       "12 2.457945e+01 1.168418e+01 NA         \n",
       "13 1.830389e-01 3.866996e-01  2         \n",
       "14 1.485412e+01 6.947128e+00 NA         \n",
       "15 6.392702e-01 4.802137e-01  2         "
      ]
     },
     "metadata": {},
     "output_type": "display_data"
    }
   ],
   "source": [
    "h2o.describe(frame) # summarize table, check for missing"
   ]
  },
  {
   "cell_type": "code",
   "execution_count": 5,
   "metadata": {
    "collapsed": false
   },
   "outputs": [
    {
     "name": "stdout",
     "output_type": "stream",
     "text": [
      "[1] \"bad_loan\"\n",
      " [1] \"loan_amnt\"             \"term\"                  \"int_rate\"             \n",
      " [4] \"emp_length\"            \"home_ownership\"        \"annual_inc\"           \n",
      " [7] \"purpose\"               \"addr_state\"            \"dti\"                  \n",
      "[10] \"delinq_2yrs\"           \"revol_util\"            \"total_acc\"            \n",
      "[13] \"longest_credit_length\" \"verification_status\"  \n"
     ]
    }
   ],
   "source": [
    "# assign target and inputs\n",
    "y <- 'bad_loan'\n",
    "X <- names(frame)[names(frame) != y]\n",
    "print(y)\n",
    "print(X)"
   ]
  },
  {
   "cell_type": "code",
   "execution_count": 6,
   "metadata": {
    "collapsed": false
   },
   "outputs": [],
   "source": [
    "# split into training and test for cross validation\n",
    "split <- h2o.splitFrame(frame, ratios = 0.7)\n",
    "train <- split[[1]]\n",
    "test <- split[[2]]"
   ]
  },
  {
   "cell_type": "code",
   "execution_count": 8,
   "metadata": {
    "collapsed": false
   },
   "outputs": [
    {
     "name": "stdout",
     "output_type": "stream",
     "text": [
      "\r",
      "  |                                                                            \r",
      "  |                                                                      |   0%\r",
      "  |                                                                            \r",
      "  |==                                                                    |   3%\r",
      "  |                                                                            \r",
      "  |====                                                                  |   5%\r",
      "  |                                                                            \r",
      "  |====                                                                  |   6%\r",
      "  |                                                                            \r",
      "  |=====                                                                 |   7%\r",
      "  |                                                                            \r",
      "  |=====                                                                 |   8%\r",
      "  |                                                                            \r",
      "  |======                                                                |   8%\r",
      "  |                                                                            \r",
      "  |======                                                                |   9%\r",
      "  |                                                                            \r",
      "  |=======                                                               |   9%\r",
      "  |                                                                            \r",
      "  |=======                                                               |  10%\r",
      "  |                                                                            \r",
      "  |=======                                                               |  11%\r",
      "  |                                                                            \r",
      "  |========                                                              |  11%\r",
      "  |                                                                            \r",
      "  |========                                                              |  12%\r",
      "  |                                                                            \r",
      "  |=========                                                             |  12%\r",
      "  |                                                                            \r",
      "  |=========                                                             |  13%\r",
      "  |                                                                            \r",
      "  |=========                                                             |  14%\r",
      "  |                                                                            \r",
      "  |==========                                                            |  14%\r",
      "  |                                                                            \r",
      "  |==========                                                            |  15%\r",
      "  |                                                                            \r",
      "  |===========                                                           |  15%\r",
      "  |                                                                            \r",
      "  |===========                                                           |  16%\r",
      "  |                                                                            \r",
      "  |============                                                          |  17%\r",
      "  |                                                                            \r",
      "  |============                                                          |  18%\r",
      "  |                                                                            \r",
      "  |=============                                                         |  18%\r",
      "  |                                                                            \r",
      "  |=============                                                         |  19%\r",
      "  |                                                                            \r",
      "  |==============                                                        |  20%\r",
      "  |                                                                            \r",
      "  |==============                                                        |  21%\r",
      "  |                                                                            \r",
      "  |===============                                                       |  21%\r",
      "  |                                                                            \r",
      "  |===============                                                       |  22%\r",
      "  |                                                                            \r",
      "  |================                                                      |  22%\r",
      "  |                                                                            \r",
      "  |================                                                      |  23%\r",
      "  |                                                                            \r",
      "  |================                                                      |  24%\r",
      "  |                                                                            \r",
      "  |=================                                                     |  24%\r",
      "  |                                                                            \r",
      "  |=================                                                     |  25%\r",
      "  |                                                                            \r",
      "  |==================                                                    |  25%\r",
      "  |                                                                            \r",
      "  |==================                                                    |  26%\r",
      "  |                                                                            \r",
      "  |===================                                                   |  26%\r",
      "  |                                                                            \r",
      "  |===================                                                   |  27%\r",
      "  |                                                                            \r",
      "  |===================                                                   |  28%\r",
      "  |                                                                            \r",
      "  |====================                                                  |  28%\r",
      "  |                                                                            \r",
      "  |====================                                                  |  29%\r",
      "  |                                                                            \r",
      "  |=====================                                                 |  29%\r",
      "  |                                                                            \r",
      "  |=====================                                                 |  30%\r",
      "  |                                                                            \r",
      "  |=====================                                                 |  31%\r",
      "  |                                                                            \r",
      "  |======================                                                |  31%\r",
      "  |                                                                            \r",
      "  |======================                                                |  32%\r",
      "  |                                                                            \r",
      "  |=======================                                               |  32%\r",
      "  |                                                                            \r",
      "  |=======================                                               |  33%\r",
      "  |                                                                            \r",
      "  |=======================                                               |  34%\r",
      "  |                                                                            \r",
      "  |========================                                              |  34%\r",
      "  |                                                                            \r",
      "  |========================                                              |  35%\r",
      "  |                                                                            \r",
      "  |======================================================================| 100%\n",
      "\r",
      "  |                                                                            \r",
      "  |                                                                      |   0%\r",
      "  |                                                                            \r",
      "  |======================================================================| 100%\n"
     ]
    }
   ],
   "source": [
    "# start automl process\n",
    "# automl loosely based on: http://papers.nips.cc/paper/5872-efficient-and-robust-automated-machine-learning.pdf\n",
    "auto <- h2o.automl(x = X, \n",
    "                   y = y,\n",
    "                   training_frame = train, # training automatically split into 70% train, 30% validation\n",
    "                   leaderboard_frame = test,\n",
    "                   max_runtime_secs = 300) # will run for 300 seconds, then build a stacked ensemble"
   ]
  },
  {
   "cell_type": "code",
   "execution_count": 9,
   "metadata": {
    "collapsed": false
   },
   "outputs": [
    {
     "data": {
      "text/plain": [
       "                                   model_id      auc  logloss\n",
       "1  StackedEnsemble_0_AutoML_20170706_163428 0.703922 0.438078\n",
       "2 GBM_grid_0_AutoML_20170706_163428_model_0 0.701623 0.449968\n",
       "3 GLM_grid_0_AutoML_20170706_163428_model_1 0.697168 0.439673\n",
       "4 GLM_grid_0_AutoML_20170706_163428_model_0 0.697168 0.439673\n",
       "5              XRT_0_AutoML_20170706_163428 0.688596 0.443309\n",
       "6              DRF_0_AutoML_20170706_163428 0.685044 0.446875\n",
       "\n",
       "[6 rows x 3 columns] "
      ]
     },
     "metadata": {},
     "output_type": "display_data"
    }
   ],
   "source": [
    "# view leaderboard\n",
    "lb <- auto@leaderboard\n",
    "lb"
   ]
  },
  {
   "cell_type": "code",
   "execution_count": 11,
   "metadata": {
    "collapsed": false
   },
   "outputs": [
    {
     "data": {
      "text/plain": [
       "Model Details:\n",
       "==============\n",
       "\n",
       "H2OBinomialModel: stackedensemble\n",
       "Model ID:  StackedEnsemble_0_AutoML_20170706_163428 \n",
       "NULL\n",
       "\n",
       "\n",
       "H2OBinomialMetrics: stackedensemble\n",
       "** Reported on training data. **\n",
       "\n",
       "MSE:  0.0953438\n",
       "RMSE:  0.3087779\n",
       "LogLoss:  0.3221293\n",
       "Mean Per-Class Error:  0.1791166\n",
       "AUC:  0.9315942\n",
       "Gini:  0.8631884\n",
       "\n",
       "Confusion Matrix (vertical: actual; across: predicted) for F1-optimal threshold:\n",
       "           0     1    Error         Rate\n",
       "0      60674  5128 0.077931  =5128/65802\n",
       "1       4077 10468 0.280303  =4077/14545\n",
       "Totals 64751 15596 0.114566  =9205/80347\n",
       "\n",
       "Maximum Metrics: Maximum metrics at their respective thresholds\n",
       "                        metric threshold    value idx\n",
       "1                       max f1  0.256958 0.694602 212\n",
       "2                       max f2  0.183652 0.772241 265\n",
       "3                 max f0point5  0.345865 0.731650 164\n",
       "4                 max accuracy  0.315529 0.893375 179\n",
       "5                max precision  0.906782 1.000000   0\n",
       "6                   max recall  0.093797 1.000000 357\n",
       "7              max specificity  0.906782 1.000000   0\n",
       "8             max absolute_mcc  0.261710 0.625477 209\n",
       "9   max min_per_class_accuracy  0.205800 0.847233 248\n",
       "10 max mean_per_class_accuracy  0.196274 0.849716 255\n",
       "\n",
       "Gains/Lift Table: Extract with `h2o.gainsLift(<model>, <data>)` or `h2o.gainsLift(<model>, valid=<T/F>, xval=<T/F>)`\n",
       "H2OBinomialMetrics: stackedensemble\n",
       "** Reported on validation data. **\n",
       "\n",
       "MSE:  0.1395791\n",
       "RMSE:  0.3736028\n",
       "LogLoss:  0.441308\n",
       "Mean Per-Class Error:  0.3444687\n",
       "AUC:  0.7129249\n",
       "Gini:  0.4258497\n",
       "\n",
       "Confusion Matrix (vertical: actual; across: predicted) for F1-optimal threshold:\n",
       "           0     1    Error          Rate\n",
       "0      18835  9094 0.325611   =9094/27929\n",
       "1       2342  4104 0.363326    =2342/6446\n",
       "Totals 21177 13198 0.332684  =11436/34375\n",
       "\n",
       "Maximum Metrics: Maximum metrics at their respective thresholds\n",
       "                        metric threshold    value idx\n",
       "1                       max f1  0.173970 0.417838 268\n",
       "2                       max f2  0.123434 0.579380 323\n",
       "3                 max f0point5  0.281166 0.380234 180\n",
       "4                 max accuracy  0.575358 0.813964  41\n",
       "5                max precision  0.804354 1.000000   0\n",
       "6                   max recall  0.060502 1.000000 396\n",
       "7              max specificity  0.804354 1.000000   0\n",
       "8             max absolute_mcc  0.173970 0.249652 268\n",
       "9   max min_per_class_accuracy  0.169662 0.653584 272\n",
       "10 max mean_per_class_accuracy  0.162896 0.657336 279\n",
       "\n",
       "Gains/Lift Table: Extract with `h2o.gainsLift(<model>, <data>)` or `h2o.gainsLift(<model>, valid=<T/F>, xval=<T/F>)`\n"
      ]
     },
     "metadata": {},
     "output_type": "display_data"
    }
   ],
   "source": [
    "# view best model\n",
    "best <- auto@leader\n",
    "best # can only be used for predict with .predict(), no MOJO for stacked ensemble yet"
   ]
  },
  {
   "cell_type": "code",
   "execution_count": null,
   "metadata": {
    "collapsed": true
   },
   "outputs": [],
   "source": [
    "h2o.shutdown(prompt = FALSE)"
   ]
  }
 ],
 "metadata": {
  "anaconda-cloud": {},
  "kernelspec": {
   "display_name": "R",
   "language": "R",
   "name": "ir"
  },
  "language_info": {
   "codemirror_mode": "r",
   "file_extension": ".r",
   "mimetype": "text/x-r-source",
   "name": "R",
   "pygments_lexer": "r",
   "version": "3.3.2"
  }
 },
 "nbformat": 4,
 "nbformat_minor": 2
}
